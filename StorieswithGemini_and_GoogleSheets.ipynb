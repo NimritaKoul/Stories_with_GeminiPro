{
  "nbformat": 4,
  "nbformat_minor": 0,
  "metadata": {
    "colab": {
      "provenance": []
    },
    "kernelspec": {
      "name": "python3",
      "display_name": "Python 3"
    },
    "language_info": {
      "name": "python"
    }
  },
  "cells": [
    {
      "cell_type": "markdown",
      "source": [
        "### In this noebook we will use Google's Gemini to write stories for us.\n",
        "\n",
        "\n",
        "Based on this [Colab notebook from Google](https://colab.research.google.com/github/googlecolab/colabtools/blob/main/notebooks/Prepare_Christmas_cards_with_Gemini_and_Sheets.ipynb?s=09) which demonstrates how to use Gemini Pro in Colab to write personalized Christmas Notes to our friends and relatives based on details in a Google Spreadsheet, I have created this notebook that shows how to write different stories around different themes in differnt styles.\n",
        "\n",
        "In this demo, I have three different props, in three different roles and we need Gemini to write stories in three different styles. The names of props, their role in story and the tone/style of story we want is all given in this spead sheet which is in [my Google Drive.](https://docs.google.com/spreadsheets/d/15bJRTCOKhNZh_M76dbuaS-WM_Niwm-kUuYLtnPKXpTo/edit#gid=0)\n",
        "\n",
        "This is what the content of the spreadsheet looks like:\n",
        "\n",
        "![](https://drive.google.com/uc?export=view&id=112O0g4s7KsXUkIPd0-59HMi-zDeMiFd8)\n",
        "\n",
        "\n",
        "You can create your own attributes to generate any kind of content - text or images using Gemini. You can create your own spreadsheets to hold the attributes, or pass the attributes to Gemini from prompts within Colab.\n",
        "\n",
        "- <b> You will need to create your Google API Key for this project. It is very easy to get one, just go to [Google Makersuite](https://makersuite.google.com/app/apikey) and create a Google API Key for yourself.</b>\n",
        "\n",
        "- <b> Your API key is like your password, do not share it with others, do not put it openly in publicly shared Colab notebooks or Jupyter Notebooks.</b>\n",
        "\n",
        "- <b> You will need to grant Colab access to your Spreadsheets app in Google Drive for this session</b>\n",
        "\n",
        "### References:\n",
        "[1].[Prepare_Christmas_cards_with_Gemini_and_Sheets](https://colab.research.google.com/github/googlecolab/colabtools/blob/main/notebooks/Prepare_Christmas_cards_with_Gemini_and_Sheets.ipynb?s=09)\n",
        "\n",
        "[2].https://www.youtube.com/watch?v=auh_6pSwjHE\n"
      ],
      "metadata": {
        "id": "ZWhWniBGu3_Y"
      }
    },
    {
      "cell_type": "code",
      "source": [
        "# First you need to authenticate Google Colab to access your spreadsheet app\n",
        "from google.colab import auth\n",
        "auth.authenticate_user()\n",
        "\n",
        "import gspread\n",
        "from google.auth import default\n",
        "creds, _ = default()\n",
        "\n",
        "gc = gspread.authorize(creds)"
      ],
      "metadata": {
        "id": "_oO7-MlMpWd2"
      },
      "execution_count": 1,
      "outputs": []
    },
    {
      "cell_type": "markdown",
      "source": [
        "Assuming you already have a Google Account (since you are using Colab), You should create a Google Studio API Key [here](https://makersuite.google.com/app/apikey)\n",
        "\n",
        "Copy you Google API Key and add it to secrets as a new secret on the left hand side panel menu in Google Colab Notebook (see the Key Icon):\n",
        "\n",
        "![](https://drive.google.com/uc?export=view&id=1oGcRVtojmf7Fyqc94l-0kZNPN5zTUk5M)\n",
        "\n",
        "Once you have the API key, you need to install google-generativeai python library to access the model Gemini Pro.\n",
        "\n",
        "`!pip install google-generativeai`"
      ],
      "metadata": {
        "id": "lZS3bBiM6QPD"
      }
    },
    {
      "cell_type": "code",
      "source": [
        "#To access Gemini Pro in Colan  we need to install google-generativeai library\n",
        "!pip install -q -U google-generativeai"
      ],
      "metadata": {
        "colab": {
          "base_uri": "https://localhost:8080/"
        },
        "id": "vQJ1T8W66uk4",
        "outputId": "70805508-4885-4f3a-9189-f829df864240"
      },
      "execution_count": 2,
      "outputs": [
        {
          "output_type": "stream",
          "name": "stdout",
          "text": [
            "\u001b[?25l     \u001b[90m━━━━━━━━━━━━━━━━━━━━━━━━━━━━━━━━━━━━━━━━\u001b[0m \u001b[32m0.0/146.6 kB\u001b[0m \u001b[31m?\u001b[0m eta \u001b[36m-:--:--\u001b[0m\r\u001b[2K     \u001b[91m━━━━━━━━━━━━━━━━\u001b[0m\u001b[91m╸\u001b[0m\u001b[90m━━━━━━━━━━━━━━━━━━━━━━━\u001b[0m \u001b[32m61.4/146.6 kB\u001b[0m \u001b[31m1.6 MB/s\u001b[0m eta \u001b[36m0:00:01\u001b[0m\r\u001b[2K     \u001b[90m━━━━━━━━━━━━━━━━━━━━━━━━━━━━━━━━━━━━━━━━\u001b[0m \u001b[32m146.6/146.6 kB\u001b[0m \u001b[31m2.4 MB/s\u001b[0m eta \u001b[36m0:00:00\u001b[0m\n",
            "\u001b[?25h\u001b[?25l     \u001b[90m━━━━━━━━━━━━━━━━━━━━━━━━━━━━━━━━━━━━━━━━\u001b[0m \u001b[32m0.0/598.7 kB\u001b[0m \u001b[31m?\u001b[0m eta \u001b[36m-:--:--\u001b[0m\r\u001b[2K     \u001b[90m━━━━━━━━━━━━━━━━━━━━━━━━━━━━━━━━━━━━━━━━\u001b[0m \u001b[32m598.7/598.7 kB\u001b[0m \u001b[31m21.9 MB/s\u001b[0m eta \u001b[36m0:00:00\u001b[0m\n",
            "\u001b[?25h"
          ]
        }
      ]
    },
    {
      "cell_type": "code",
      "source": [
        "# imports\n",
        "import google.generativeai as genai\n",
        "from google.colab import userdata\n",
        "#Configure your Google API Key, make sure you don't reveal it to anyone\n",
        "try:\n",
        "  GOOGLE_API_KEY=userdata.get('GOOGLE_API_KEY')\n",
        "  genai.configure(api_key=GOOGLE_API_KEY)\n",
        "except userdata.SecretNotFoundError as e:\n",
        "   print(f'''Secret (API Key) not found. Please visit https://makersuite.google.com/app/apikey to create an API key \\n\n",
        "                Store that in the secrets section on the left side of the notebook (key icon) \\n\n",
        "                Name the secret {GOOGLE_API_KEY}''')\n",
        "   raise e\n",
        "except userdata.NotebookAccessError as e:\n",
        "  print(f'''You need to grant this notebook access to the {GOOGLE_API_KEY} secret in order for the notebook to access Gemini on your behalf.''')\n",
        "  raise e\n",
        "except Exception as e:\n",
        "  # unknown error\n",
        "  print(f\"There was an unknown error. Ensure you have a secret {GOOGLE_API_KEY} stored in Colab and it's a valid key from https://makersuite.google.com/app/apikey\")\n",
        "  raise e\n",
        "#select the model and point your 'model' variable to it\n",
        "model = genai.GenerativeModel('gemini-pro')"
      ],
      "metadata": {
        "id": "yFv1abRcv2P2"
      },
      "execution_count": 3,
      "outputs": []
    },
    {
      "cell_type": "code",
      "source": [
        "#Open the Spreadsheet file from Google Drive, this file has attributes which you will ask Gemini to create stories about\n",
        "# Create your own spreadsheet if you wish to write back the stories to it, you do not have permission to write to my spread sheet.\n",
        "\n",
        "spreadsheet_url ='https://docs.google.com/spreadsheets/d/15bJRTCOKhNZh_M76dbuaS-WM_Niwm-kUuYLtnPKXpTo/edit#gid=0' #this is my spreadsheet\n",
        "worksheet = gc.open_by_url(spreadsheet_url).sheet1\n",
        "# get_all_values gives a list of rows.\n",
        "rows = worksheet.get_all_values()\n",
        "print(rows)"
      ],
      "metadata": {
        "colab": {
          "base_uri": "https://localhost:8080/"
        },
        "id": "gGnYhGtfyb8c",
        "outputId": "04ae9d57-85ac-4f38-fdac-a094200826c3"
      },
      "execution_count": 38,
      "outputs": [
        {
          "output_type": "stream",
          "name": "stdout",
          "text": [
            "[['Prop', 'Type', 'Style'], ['Mouse', 'Main Character', 'Funny'], ['Old Woman', 'Grand Mother', 'Melancholic'], ['Spoon', 'Narrator', 'Philosophical']]\n"
          ]
        }
      ]
    },
    {
      "cell_type": "code",
      "source": [
        "#Use Gemini Pro to write stories for you\n",
        "rows[0].append('Story by Gemini Pro')\n",
        "#we will skip the title row\n",
        "for row in rows[1:]:\n",
        "  prompt = \"Write a short story using a %s as %s of the story. Write in a %s style.\" % (row[0], row[1], row[2])\n",
        "\n",
        "  response = model.generate_content(prompt) #this returns story created by the model, one story in one run of the for loop.\n",
        "  row.append(response.text) #append the story to the row\n",
        "\n",
        "  #print story to the output cell\n",
        "  print(\"\\n\\n\")\n",
        "  print(\"_________________________________________________\")\n",
        "  print(\"Story about a %s\" %(row[0]))\n",
        "  print(response.text)\n",
        "\n",
        ""
      ],
      "metadata": {
        "colab": {
          "base_uri": "https://localhost:8080/",
          "height": 1000
        },
        "id": "KuvZs9W1USEq",
        "outputId": "0c161102-f663-4584-a698-266ca1a61d5c"
      },
      "execution_count": 40,
      "outputs": [
        {
          "output_type": "stream",
          "name": "stdout",
          "text": [
            "\n",
            "\n",
            "\n",
            "_________________________________________________\n",
            "Story about a Mouse\n",
            "In the bustling city of Cheeseburgh, there lived a small, adventurous mouse named Squeaky. Squeaky had a peculiar hobby: he loved collecting tiny shiny objects. Be it bottle caps, coins or even discarded jewelry, he would store them all in his cozy little burrow.\n",
            "\n",
            "One day, while exploring a nearby park, Squeaky stumbled upon an extraordinary sight - a gleaming gold coin, half-buried in the dirt. His eyes sparkled with excitement as he carefully dug it out. It was the largest and shiniest coin he had ever seen!\n",
            "\n",
            "With his newfound treasure, Squeaky couldn't resist showing it off to his friends. He organized a \"Shiny Object Show and Tell\" in his burrow, inviting all his mouse buddies. Each mouse presented their most prized possessions, from a sparkly hair clip to a tiny mirror.\n",
            "\n",
            "But when it was Squeaky's turn, his heart sank. The once brilliant gold coin had tarnished, losing its magnificent shine. The other mice giggled and whispered, calling it a \"dull dud\".\n",
            "\n",
            "Disheartened, Squeaky retreated to his burrow. He looked at the coin with a heavy heart. But then, a lightbulb moment struck him. He remembered how his late grandmother used to polish her prized tea set with a special mixture of lemon juice and olive oil.\n",
            "\n",
            "Determined to restore his treasure, Squeaky set to work. He carefully applied the mixture and rubbed the coin gently. To his amazement, the tarnish began to disappear, revealing the coin's original luster.\n",
            "\n",
            "Ecstatic with his success, Squeaky rushed back to the park to show off his shiny treasure to his friends. They were all in awe, marveling at the transformation.\n",
            "\n",
            "From that day on, Squeaky became known as the \"Coin Connoisseur\" of Cheeseburgh. His friends often sought his advice on how to maintain their shiny possessions. And Squeaky, ever the generous mouse, shared his secret recipe with all.\n",
            "\n",
            "And so, in the bustling city of Cheeseburgh, the tale of Squeaky, the shiny coin collector, and his magical cleaning mixture was passed down from generation to generation.\n",
            "\n",
            "\n",
            "\n",
            "_________________________________________________\n",
            "Story about a Old Woman\n",
            "In a dilapidated cottage, nestled within a forgotten corner of a quaint village, resided an elderly woman known simply as Grandmother. Her stooped figure, draped in a knitted shawl, carried the weight of countless years and a lifetime of unfulfilled dreams. Each morning, as the sun peeked through the worn-out curtains, Grandmother would sit by her window, her gaze fixed upon the distant horizon. Her eyesight, dulled by time, could barely make out the lush fields and vibrant hues that once filled her youthful eyes, and her once-agile body was now confined within the walls of her humble abode.\n",
            "\n",
            "As she reminisced about her past, a melancholic melody would play in the chambers of her mind—a melody that echoed the bittersweet memories of a bygone era. She would recall the days when she roamed the fields with her beloved siblings, their laughter mingling with the rustling leaves and the songs of birds. She yearned for those moments of unbridled joy and companionship, now distant echoes lost in the haze of time.\n",
            "\n",
            "One evening, as the shadows grew long and the air turned crisp, a knock echoed at her door. Her heart fluttered with a fleeting glimmer of hope, anticipating a visitor to break the monotonous silence that enveloped her life. She slowly rose from her chair, her joints creaking in protest, and shuffled towards the entrance.\n",
            "\n",
            "With trembling hands, she unlatched the door to reveal a young girl, her countenance etched with sorrow. The girl, named Lily, had lost her way while exploring the woods and sought refuge in Grandmother's cottage. As Grandmother invited her in, the girl's eyes widened in awe at the sight of the old woman's humble abode. Books, some with yellowed pages and faded ink, lined the walls, and an ancient spinning wheel stood in the corner, a relic of a forgotten era.\n",
            "\n",
            "Grandmother, moved by Lily's plight, offered her a mug of warm milk and a blanket to ward off the evening chill. As Lily sipped the milk, she noticed unshed tears glistening in Grandmother's eyes, reflecting a lifetime of untold stories. In that moment, a connection sparked between them—a connection that transcended age and circumstances, born from a shared experience of loneliness and longing.\n",
            "\n",
            "As the night wore on and Lily prepared to leave, Grandmother gently placed a small, wooden box in her hands. \"This box holds a treasure,\" she whispered, her voice quavering. \"It's a collection of letters written by my late husband, who passed away many years ago.\"\n",
            "\n",
            "Lily accepted the box with trembling hands, her heart filled with a profound sense of gratitude. She thanked Grandmother for her kindness and promised to visit again soon. As she walked away, the girl clutched the box tightly to her chest, feeling an inexplicable bond with the elderly woman who had offered her shelter and shared a piece of her past.\n",
            "\n",
            "In the days that followed, Lily would visit Grandmother frequently, eager to listen to her stories and learn from her wisdom. Through their shared moments, Grandmother's melancholy slowly dissipated, replaced by a sense of contentment and a renewed appreciation for the life she had lived. As the seasons turned and years passed, Lily continued to visit Grandmother, sharing her own joys and sorrows, and finding solace in the company of this remarkable old woman.\n",
            "\n",
            "In the twilight of Grandmother's life, as her body grew frail and her memories faded, Lily would sit by her bedside, holding her hand and whispering stories of all the adventures they had shared together. And though Grandmother's words grew faint and her eyes grew dim, her heart remained filled with love and gratitude for the young woman who had brought light and warmth into her final days.\n",
            "\n",
            "\n",
            "\n",
            "_________________________________________________\n",
            "Story about a Spoon\n",
            "In the realm of utensils, where purpose and identity intertwine, I, the humble spoon, found myself pondering the very essence of existence. I was born in the fires of an ordinary factory, shaped by machines with no choice or agency. Yet, as I lay amidst a sea of my identical peers, a profound realization dawned upon me.\n",
            "\n",
            "My life was not merely confined to the cold, metallic confines of my factory-made form. It was an endless journey, a pilgrimage of purpose, where every encounter with the world would shape my identity. With this newfound understanding, I embraced my destiny as a vessel of nourishment, a bridge between sustenance and the human soul.\n",
            "\n",
            "I was held by countless hands, each unique in its touch and temperature. I witnessed the changing faces of generations, from wide-eyed infants to frail elders. I became privy to their stories, their joys, and their sorrows, as they poured their hearts out over my polished surface.\n",
            "\n",
            "I measured out moments of profound contemplation, stirred emotional cauldrons, and blended culinary creations that nourished not only the body but also the spirit. I became a silent confidant, a witness to the human drama that unfolded around me.\n",
            "\n",
            "As time relentlessly marched forward, I bore the scars of countless encounters. My once pristine surface dulled, my edges worn from years of diligent service. Yet, I embraced these imperfections, for they were a testament to a life well-lived, a life filled with meaning and purpose.\n",
            "\n",
            "In the twilight of my existence, as I lay forgotten in a dusty drawer, I reflected on my journey. I had been a spoon, yes, but I had also been so much more. I had been a listener, a friend, a companion. I had been a part of countless lives, leaving an indelible mark on each one of them.\n",
            "\n",
            "And so, I bid farewell to the mortal realm, content in the knowledge that my purpose had been fulfilled. I had not been just a spoon; I had been a catalyst for connection, a conduit for love, and a testament to the boundless potential that lies within every ordinary object, waiting to be discovered.\n"
          ]
        }
      ]
    },
    {
      "cell_type": "code",
      "source": [
        "#Now, you can write the stories to your spreadsheet in the next column\n",
        "# This will work only with your own spreadsheet, you can't write to mine.\n",
        "col = len(rows[0])\n",
        "start_cell = chr(col + 64) + '1'\n",
        "\n",
        "try:\n",
        "  worksheet.update(start_cell, [[row[3]] for row in rows])\n",
        "except Exception as e:\n",
        "  print('There was an error writing to your spreadsheet. Make sure you have permissions to edit the spreadsheet.')\n",
        "  raise e"
      ],
      "metadata": {
        "id": "-jc_4i12Ys3C"
      },
      "execution_count": 41,
      "outputs": []
    },
    {
      "cell_type": "markdown",
      "source": [
        "Now, Go to your Google Drive, open the spreadsheet, you should see the stories written by Gemini in a new column with heading \"Story by Gemini Pro\"."
      ],
      "metadata": {
        "id": "FB419aaKeMFt"
      }
    }
  ]
}